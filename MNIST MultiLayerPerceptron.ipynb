{
 "cells": [
  {
   "cell_type": "code",
   "execution_count": 31,
   "metadata": {},
   "outputs": [
    {
     "name": "stdout",
     "output_type": "stream",
     "text": [
      "Populating the interactive namespace from numpy and matplotlib\n"
     ]
    },
    {
     "name": "stderr",
     "output_type": "stream",
     "text": [
      "/usr/local/lib/python3.5/dist-packages/IPython/core/magics/pylab.py:160: UserWarning: pylab import has clobbered these variables: ['e']\n",
      "`%matplotlib` prevents importing * from pylab and numpy\n",
      "  \"\\n`%matplotlib` prevents importing * from pylab and numpy\"\n"
     ]
    }
   ],
   "source": [
    "import tensorflow as tf\n",
    "%pylab inline"
   ]
  },
  {
   "cell_type": "code",
   "execution_count": 2,
   "metadata": {},
   "outputs": [
    {
     "name": "stdout",
     "output_type": "stream",
     "text": [
      "Extracting MNIST_data/train-images-idx3-ubyte.gz\n",
      "Extracting MNIST_data/train-labels-idx1-ubyte.gz\n",
      "Extracting MNIST_data/t10k-images-idx3-ubyte.gz\n",
      "Extracting MNIST_data/t10k-labels-idx1-ubyte.gz\n"
     ]
    }
   ],
   "source": [
    "from tensorflow.examples.tutorials.mnist import input_data\n",
    "\n",
    "#data\n",
    "mnist = input_data.read_data_sets(\"MNIST_data/\", one_hot=True)"
   ]
  },
  {
   "cell_type": "code",
   "execution_count": 73,
   "metadata": {
    "collapsed": true
   },
   "outputs": [],
   "source": [
    "#Hyper parameters\n",
    "learning_rate = 0.0005\n",
    "epochs = 50\n",
    "batch_size = 250\n",
    "display_step = 1 "
   ]
  },
  {
   "cell_type": "code",
   "execution_count": 74,
   "metadata": {
    "collapsed": true
   },
   "outputs": [],
   "source": [
    "#NN parameters \n",
    "n_hidden_1 = 16\n",
    "n_hidden_2 = 16 \n",
    "image_size = 28*28\n",
    "labels_size = 10"
   ]
  },
  {
   "cell_type": "code",
   "execution_count": 75,
   "metadata": {
    "collapsed": true
   },
   "outputs": [],
   "source": [
    "# Define placeholders for input data\n",
    "training_data = tf.placeholder(tf.float32, [None, image_size])\n",
    "labels = tf.placeholder(tf.float32, [None, labels_size])"
   ]
  },
  {
   "cell_type": "code",
   "execution_count": 76,
   "metadata": {},
   "outputs": [],
   "source": [
    "#weigths and biases\n",
    "weights = {\n",
    "    'h1': tf.Variable(tf.truncated_normal([image_size,n_hidden_1],stddev=0.1)),\n",
    "    'h2': tf.Variable(tf.truncated_normal([n_hidden_1  ,n_hidden_2],stddev=0.1)),\n",
    "    'out': tf. Variable(tf.truncated_normal([n_hidden_2,labels_size],stddev=0.1))\n",
    "}\n",
    "biases = {\n",
    "    'b1': tf.Variable(tf.random_normal([n_hidden_1])),\n",
    "    'b2': tf.Variable(tf.random_normal([n_hidden_2])),\n",
    "    'out': tf.Variable(tf.random_normal([labels_size]))\n",
    "}"
   ]
  },
  {
   "cell_type": "code",
   "execution_count": 83,
   "metadata": {
    "collapsed": true
   },
   "outputs": [],
   "source": [
    "def multilayer_perceptron(x):\n",
    "    l_1 = tf.add(tf.matmul(x,weights['h1']),biases['b1'])\n",
    "    y_1 = tf.nn.sigmoid(l_1)\n",
    "    l_2 = tf.add(tf.matmul(y_1,weights['h2']),biases['b2'])\n",
    "    y_2 = tf.nn.sigmoid(l_2)\n",
    "    out_l = tf.add(tf.matmul(y_2,weights['out']),biases['out'])\n",
    "    return(out_l)"
   ]
  },
  {
   "cell_type": "code",
   "execution_count": 84,
   "metadata": {},
   "outputs": [],
   "source": [
    "#define model\n",
    "logits = multilayer_perceptron(training_data)\n",
    "\n",
    "#Cost function\n",
    "costf = tf.reduce_mean(tf.nn.softmax_cross_entropy_with_logits(logits=logits,labels=labels))\n",
    "#optimizer\n",
    "opt = tf.train.AdamOptimizer(learning_rate)\n",
    "train_opt = opt.minimize(costf)"
   ]
  },
  {
   "cell_type": "code",
   "execution_count": 85,
   "metadata": {
    "collapsed": true
   },
   "outputs": [],
   "source": [
    "# Initializing the variables\n",
    "init = tf.global_variables_initializer()\n",
    "# Run a tensorflow Session\n",
    "sess = tf.InteractiveSession()\n",
    "sess.run(tf.global_variables_initializer())"
   ]
  },
  {
   "cell_type": "code",
   "execution_count": 86,
   "metadata": {},
   "outputs": [
    {
     "name": "stdout",
     "output_type": "stream",
     "text": [
      "Epoch: 1 cost: 2.35839901621\n",
      "Epoch: 2 cost: 2.11338246411\n",
      "Epoch: 3 cost: 1.88359163241\n",
      "Epoch: 4 cost: 1.65033289844\n",
      "Epoch: 5 cost: 1.48120051948\n",
      "Epoch: 6 cost: 1.3703504389\n",
      "Epoch: 7 cost: 1.28350685672\n",
      "Epoch: 8 cost: 1.20421559594\n",
      "Epoch: 9 cost: 1.13083430962\n",
      "Epoch: 10 cost: 1.06221432361\n",
      "Epoch: 11 cost: 0.982284856655\n",
      "Epoch: 12 cost: 0.891200112755\n",
      "Epoch: 13 cost: 0.804946299846\n",
      "Epoch: 14 cost: 0.719006406448\n",
      "Epoch: 15 cost: 0.639882650159\n",
      "Epoch: 16 cost: 0.574182372066\n",
      "Epoch: 17 cost: 0.519935302707\n",
      "Epoch: 18 cost: 0.479017619924\n",
      "Epoch: 19 cost: 0.445502617007\n",
      "Epoch: 20 cost: 0.420132093267\n",
      "Epoch: 21 cost: 0.397388079221\n",
      "Epoch: 22 cost: 0.379031500898\n",
      "Epoch: 23 cost: 0.366208740121\n",
      "Epoch: 24 cost: 0.353128032048\n",
      "Epoch: 25 cost: 0.335981050879\n",
      "Epoch: 26 cost: 0.334333974258\n",
      "Epoch: 27 cost: 0.319638117064\n",
      "Epoch: 28 cost: 0.311789769679\n",
      "Epoch: 29 cost: 0.300082190199\n",
      "Epoch: 30 cost: 0.296099328046\n",
      "Epoch: 31 cost: 0.292377720299\n",
      "Epoch: 32 cost: 0.283469124003\n",
      "Epoch: 33 cost: 0.274290809035\n",
      "Epoch: 34 cost: 0.270799276571\n",
      "Epoch: 35 cost: 0.26532224349\n",
      "Epoch: 36 cost: 0.261079360003\n",
      "Epoch: 37 cost: 0.251281047274\n",
      "Epoch: 38 cost: 0.248730245639\n",
      "Epoch: 39 cost: 0.24413071776\n",
      "Epoch: 40 cost: 0.240858623961\n",
      "Epoch: 41 cost: 0.236765654216\n",
      "Epoch: 42 cost: 0.229027980464\n",
      "Epoch: 43 cost: 0.226331255585\n",
      "Epoch: 44 cost: 0.224019970813\n",
      "Epoch: 45 cost: 0.216563191163\n",
      "Epoch: 46 cost: 0.216292283819\n",
      "Epoch: 47 cost: 0.215959286148\n",
      "Epoch: 48 cost: 0.20894048407\n",
      "Epoch: 49 cost: 0.20628667887\n",
      "Epoch: 50 cost: 0.205146634308\n",
      "Training done!\n"
     ]
    }
   ],
   "source": [
    "avg_cost_list = []\n",
    "for e in range(epochs):\n",
    "    avg_cost = 0\n",
    "    total_batch = int(mnist.train.num_examples/batch_size)\n",
    "    for i in range(total_batch):\n",
    "        input_batch, labels_batch = mnist.train.next_batch(batch_size)\n",
    "        _,c = sess.run([train_opt,costf],feed_dict = {training_data: input_batch, labels: labels_batch})\n",
    "        avg_cost += c/total_batch\n",
    "    avg_cost_list.append(avg_cost)\n",
    "    if e % display_step == 0:\n",
    "        print('Epoch: ' + str(e+1), 'cost: ' + str(avg_cost))\n",
    "print('Training done!')"
   ]
  },
  {
   "cell_type": "code",
   "execution_count": 87,
   "metadata": {},
   "outputs": [
    {
     "data": {
      "image/png": "[encoded data removed]",
      "text/plain": [
       "<matplotlib.figure.Figure at 0x7fa0949a34a8>"
      ]
     },
     "metadata": {},
     "output_type": "display_data"
    }
   ],
   "source": [
    "plot([(i+1) for i in range(epochs)],avg_cost_list,'ro')\n",
    "title('Reduction of cost function during training epochs')\n",
    "ylabel('Cost')\n",
    "xlabel('Training epoch')\n",
    "show()"
   ]
  },
  {
   "cell_type": "code",
   "execution_count": 88,
   "metadata": {},
   "outputs": [
    {
     "name": "stdout",
     "output_type": "stream",
     "text": [
      "Accuracy: 0.9331\n"
     ]
    }
   ],
   "source": [
    "# Test model\n",
    "pred = tf.nn.softmax(logits)  # Apply softmax to logits\n",
    "correct_prediction = tf.equal(tf.argmax(pred, 1), tf.argmax(labels, 1))\n",
    "# Calculate accuracy\n",
    "accuracy = tf.reduce_mean(tf.cast(correct_prediction, \"float\"))\n",
    "print(\"Accuracy:\", accuracy.eval({training_data: mnist.test.images, labels: mnist.test.labels}))"
   ]
  },
  {
   "cell_type": "code",
   "execution_count": null,
   "metadata": {
    "collapsed": true
   },
   "outputs": [],
   "source": []
  }
 ],
 "metadata": {
  "kernelspec": {
   "display_name": "tensorflow",
   "language": "python",
   "name": "tensorflow"
  },
  "language_info": {
   "codemirror_mode": {
    "name": "ipython",
    "version": 3
   },
   "file_extension": ".py",
   "mimetype": "text/x-python",
   "name": "python",
   "nbconvert_exporter": "python",
   "pygments_lexer": "ipython3",
   "version": "3.5.2"
  }
 },
 "nbformat": 4,
 "nbformat_minor": 2
}
