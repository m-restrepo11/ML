{
 "cells": [
  {
   "cell_type": "code",
   "execution_count": 1,
   "metadata": {
    "collapsed": false
   },
   "outputs": [
    {
     "name": "stdout",
     "output_type": "stream",
     "text": [
      "Populating the interactive namespace from numpy and matplotlib\n"
     ]
    }
   ],
   "source": [
    "import tensorflow as tf\n",
    "%pylab inline"
   ]
  },
  {
   "cell_type": "code",
   "execution_count": 2,
   "metadata": {
    "collapsed": false
   },
   "outputs": [
    {
     "name": "stdout",
     "output_type": "stream",
     "text": [
      "Extracting MNIST_data/train-images-idx3-ubyte.gz\n",
      "Extracting MNIST_data/train-labels-idx1-ubyte.gz\n",
      "Extracting MNIST_data/t10k-images-idx3-ubyte.gz\n",
      "Extracting MNIST_data/t10k-labels-idx1-ubyte.gz\n"
     ]
    }
   ],
   "source": [
    "from tensorflow.examples.tutorials.mnist import input_data\n",
    "\n",
    "#data\n",
    "mnist = input_data.read_data_sets(\"MNIST_data/\", one_hot=True)"
   ]
  },
  {
   "cell_type": "code",
   "execution_count": 22,
   "metadata": {
    "collapsed": true
   },
   "outputs": [],
   "source": [
    "#Hyper parameters\n",
    "learning_rate = 0.005\n",
    "epochs = 35\n",
    "batch_size = 250"
   ]
  },
  {
   "cell_type": "code",
   "execution_count": 23,
   "metadata": {
    "collapsed": true
   },
   "outputs": [],
   "source": [
    "#NN parameters \n",
    "n_hidden_1 = 256\n",
    "n_hidden_2 = 16 \n",
    "image_size = 28*28\n",
    "labels_size = 10"
   ]
  },
  {
   "cell_type": "code",
   "execution_count": 24,
   "metadata": {
    "collapsed": false
   },
   "outputs": [],
   "source": [
    "# Define placeholders for input data\n",
    "training_data = tf.placeholder(tf.float32, [None, image_size])\n",
    "labels = tf.placeholder(tf.float32, [None, labels_size])"
   ]
  },
  {
   "cell_type": "code",
   "execution_count": 33,
   "metadata": {
    "collapsed": true
   },
   "outputs": [],
   "source": [
    "#Layers using tensorflow methods\n",
    "h1 = tf.layers.dense(inputs = training_data , units = n_hidden_1, use_bias = True, activation=tf.nn.relu)\n",
    "dh1 = tf.layers.dropout(h1,rate=0.2,training=True)\n",
    "h2 = tf.layers.dense(inputs = dh1 , units = n_hidden_2, use_bias = True, activation=tf.nn.sigmoid)\n",
    "out = tf.layers.dense(inputs = h2 , units = labels_size, use_bias = True)\n"
   ]
  },
  {
   "cell_type": "code",
   "execution_count": 32,
   "metadata": {
    "collapsed": true
   },
   "outputs": [],
   "source": [
    "#weigths and biases definition manual\n",
    "weights = {\n",
    "    'h1': tf.Variable(tf.truncated_normal([image_size,n_hidden_1],stddev=0.1)),\n",
    "    'h2': tf.Variable(tf.truncated_normal([n_hidden_1  ,n_hidden_2],stddev=0.1)),\n",
    "    'out': tf. Variable(tf.truncated_normal([n_hidden_2,labels_size],stddev=0.1))\n",
    "}\n",
    "biases = {\n",
    "    'b1': tf.Variable(tf.random_normal([n_hidden_1])),\n",
    "    'b2': tf.Variable(tf.random_normal([n_hidden_2])),\n",
    "    'out': tf.Variable(tf.random_normal([labels_size]))\n",
    "}"
   ]
  },
  {
   "cell_type": "code",
   "execution_count": 83,
   "metadata": {
    "collapsed": true
   },
   "outputs": [],
   "source": [
    "#define the fully conected NN with two hidden layer and sigmoids as activations in each hidden layer.\n",
    "def multilayer_perceptron(x):\n",
    "    l_1 = tf.add(tf.matmul(x,weights['h1']),biases['b1'])\n",
    "    y_1 = tf.nn.sigmoid(l_1)\n",
    "    l_2 = tf.add(tf.matmul(y_1,weights['h2']),biases['b2'])\n",
    "    y_2 = tf.nn.sigmoid(l_2)\n",
    "    out_l = tf.add(tf.matmul(y_2,weights['out']),biases['out'])\n",
    "    return(out_l)"
   ]
  },
  {
   "cell_type": "code",
   "execution_count": 34,
   "metadata": {
    "collapsed": false
   },
   "outputs": [],
   "source": [
    "#define model\n",
    "logits = out\n",
    "\n",
    "#Cost function\n",
    "costf = tf.reduce_mean(tf.nn.softmax_cross_entropy_with_logits_v2(logits=logits,labels=labels))\n",
    "#optimizer\n",
    "opt = tf.train.AdamOptimizer(learning_rate)\n",
    "train_opt = opt.minimize(costf)"
   ]
  },
  {
   "cell_type": "code",
   "execution_count": 35,
   "metadata": {
    "collapsed": true
   },
   "outputs": [],
   "source": [
    "# Initializing the variables\n",
    "init = tf.global_variables_initializer()\n",
    "# Run a tensorflow Session\n",
    "sess = tf.InteractiveSession()\n",
    "sess.run(tf.global_variables_initializer())"
   ]
  },
  {
   "cell_type": "code",
   "execution_count": 36,
   "metadata": {
    "collapsed": false
   },
   "outputs": [
    {
     "name": "stdout",
     "output_type": "stream",
     "text": [
      "Epoch: 1 cost: 0.5717314199290492\n",
      "Epoch: 2 cost: 0.16786971911787996\n",
      "Epoch: 3 cost: 0.11854403183202844\n",
      "Epoch: 4 cost: 0.09443750420415947\n",
      "Epoch: 5 cost: 0.078455757535994\n",
      "Epoch: 6 cost: 0.06773390745405446\n",
      "Epoch: 7 cost: 0.0592785687228157\n",
      "Epoch: 8 cost: 0.05383568743921142\n",
      "Epoch: 9 cost: 0.052195173459635515\n",
      "Epoch: 10 cost: 0.04836157597178086\n",
      "Epoch: 11 cost: 0.04259225167757404\n",
      "Epoch: 12 cost: 0.04068302054974167\n",
      "Epoch: 13 cost: 0.04060124769298868\n",
      "Epoch: 14 cost: 0.03755257352974944\n",
      "Epoch: 15 cost: 0.03563686233564195\n",
      "Epoch: 16 cost: 0.03776060535720636\n",
      "Epoch: 17 cost: 0.034239921818318024\n",
      "Epoch: 18 cost: 0.035370290342887696\n",
      "Epoch: 19 cost: 0.031574168794957766\n",
      "Epoch: 20 cost: 0.03228240728018466\n",
      "Epoch: 21 cost: 0.029472864418163557\n",
      "Epoch: 22 cost: 0.03282019824149427\n",
      "Epoch: 23 cost: 0.02906035263387655\n",
      "Epoch: 24 cost: 0.030176996582568703\n",
      "Epoch: 25 cost: 0.030576251675798135\n",
      "Epoch: 26 cost: 0.028110547804019673\n",
      "Epoch: 27 cost: 0.028059713491661982\n",
      "Epoch: 28 cost: 0.029104504382915123\n",
      "Epoch: 29 cost: 0.02463826924689454\n",
      "Epoch: 30 cost: 0.02496751525269991\n",
      "Epoch: 31 cost: 0.023204638828015458\n",
      "Epoch: 32 cost: 0.026150990532584153\n",
      "Epoch: 33 cost: 0.02552988162602891\n",
      "Epoch: 34 cost: 0.024949998234991305\n",
      "Epoch: 35 cost: 0.025756331855981515\n",
      "Training done!\n"
     ]
    }
   ],
   "source": [
    "avg_cost_list = []\n",
    "for e in range(epochs):\n",
    "    avg_cost = 0\n",
    "    total_batch = int(mnist.train.num_examples/batch_size)\n",
    "    for i in range(total_batch):\n",
    "        input_batch, labels_batch = mnist.train.next_batch(batch_size)\n",
    "        _,c = sess.run([train_opt,costf],feed_dict = {training_data: input_batch, labels: labels_batch})\n",
    "        avg_cost += c/total_batch\n",
    "    avg_cost_list.append(avg_cost)\n",
    "    if e % 1 == 0:\n",
    "        print('Epoch: ' + str(e+1), 'cost: ' + str(avg_cost))\n",
    "print('Training done!')"
   ]
  },
  {
   "cell_type": "code",
   "execution_count": 39,
   "metadata": {
    "collapsed": false
   },
   "outputs": [
    {
     "data": {
      "image/png": "[encoded data removed]",
      "text/plain": [
       "<matplotlib.figure.Figure at 0x7fc1aef02e80>"
      ]
     },
     "metadata": {},
     "output_type": "display_data"
    }
   ],
   "source": [
    "semilogy([(i+1) for i in range(epochs)],avg_cost_list,'ro')\n",
    "title('Reduction of cost function during training epochs')\n",
    "\n",
    "ylabel('Cost')\n",
    "xlabel('Training epoch')\n",
    "show()"
   ]
  },
  {
   "cell_type": "code",
   "execution_count": 40,
   "metadata": {
    "collapsed": false
   },
   "outputs": [
    {
     "name": "stdout",
     "output_type": "stream",
     "text": [
      "Accuracy: 0.9715\n"
     ]
    }
   ],
   "source": [
    "# Test model\n",
    "pred = tf.nn.softmax(logits)  # Apply softmax to logits\n",
    "correct_prediction = tf.equal(tf.argmax(pred, 1), tf.argmax(labels, 1))\n",
    "# Calculate accuracy\n",
    "accuracy = tf.reduce_mean(tf.cast(correct_prediction, \"float\"))\n",
    "print(\"Accuracy:\", accuracy.eval({training_data: mnist.test.images, labels: mnist.test.labels}))"
   ]
  },
  {
   "cell_type": "code",
   "execution_count": null,
   "metadata": {
    "collapsed": true
   },
   "outputs": [],
   "source": []
  }
 ],
 "metadata": {
  "kernelspec": {
   "display_name": "Python 3",
   "language": "python",
   "name": "python3"
  },
  "language_info": {
   "codemirror_mode": {
    "name": "ipython",
    "version": 3
   },
   "file_extension": ".py",
   "mimetype": "text/x-python",
   "name": "python",
   "nbconvert_exporter": "python",
   "pygments_lexer": "ipython3",
   "version": "3.5.2"
  }
 },
 "nbformat": 4,
 "nbformat_minor": 2
}
