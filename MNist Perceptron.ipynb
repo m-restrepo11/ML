{
 "cells": [
  {
   "cell_type": "code",
   "execution_count": 12,
   "metadata": {
    "collapsed": true
   },
   "outputs": [],
   "source": [
    "import tensorflow as tf"
   ]
  },
  {
   "cell_type": "code",
   "execution_count": 13,
   "metadata": {},
   "outputs": [
    {
     "name": "stdout",
     "output_type": "stream",
     "text": [
      "Extracting MNIST_data/train-images-idx3-ubyte.gz\n",
      "Extracting MNIST_data/train-labels-idx1-ubyte.gz\n",
      "Extracting MNIST_data/t10k-images-idx3-ubyte.gz\n",
      "Extracting MNIST_data/t10k-labels-idx1-ubyte.gz\n"
     ]
    }
   ],
   "source": [
    "from tensorflow.examples.tutorials.mnist import input_data\n",
    "\n",
    "#data\n",
    "mnist = input_data.read_data_sets(\"MNIST_data/\", one_hot=True)"
   ]
  },
  {
   "cell_type": "code",
   "execution_count": 41,
   "metadata": {
    "collapsed": true
   },
   "outputs": [],
   "source": [
    "#hyper parameters\n",
    "image_size = 28\n",
    "labels_size = 10\n",
    "learning_rate = 0.0005\n",
    "steps_number = 10000\n",
    "batch_size = 100\n",
    "\n",
    "# Define placeholders for input data\n",
    "training_data = tf.placeholder(tf.float32, [None, image_size*image_size])\n",
    "labels = tf.placeholder(tf.float32, [None, labels_size])\n",
    "\n",
    "#The NN variables\n",
    "W = tf.Variable(tf.truncated_normal([image_size*image_size, labels_size], stddev=0.1))\n",
    "b = tf.Variable(tf.constant(0.1, shape=[labels_size]))"
   ]
  },
  {
   "cell_type": "code",
   "execution_count": 42,
   "metadata": {
    "collapsed": true
   },
   "outputs": [],
   "source": [
    "# Build the network (only output layer)\n",
    "output = tf.matmul(training_data, W) + b\n",
    "\n",
    "# Define the loss function\n",
    "loss = tf.reduce_mean(tf.nn.softmax_cross_entropy_with_logits(labels=labels, logits=output))\n",
    "\n",
    "# Training step\n",
    "#train_step = tf.train.GradientDescentOptimizer(learning_rate).minimize(loss)\n",
    "train_step = tf.train.AdamOptimizer(learning_rate).minimize(loss)"
   ]
  },
  {
   "cell_type": "code",
   "execution_count": 43,
   "metadata": {
    "collapsed": true
   },
   "outputs": [],
   "source": [
    "# Accuracy calculation\n",
    "correct_prediction = tf.equal(tf.argmax(output, 1), tf.argmax(labels, 1))\n",
    "accuracy = tf.reduce_mean(tf.cast(correct_prediction, tf.float32))"
   ]
  },
  {
   "cell_type": "code",
   "execution_count": 45,
   "metadata": {},
   "outputs": [
    {
     "name": "stdout",
     "output_type": "stream",
     "text": [
      "step 0 training batch accuracy: 5.0% cost: 0.00474748091264\n",
      "step 1000 training batch accuracy: 88.0% cost: 1.30111189642\n",
      "step 2000 training batch accuracy: 86.0% cost: 1.96828109717\n",
      "step 3000 training batch accuracy: 93.0% cost: 2.54867523696\n",
      "step 4000 training batch accuracy: 92.0% cost: 3.09280268924\n",
      "step 5000 training batch accuracy: 90.0% cost: 3.61098453337\n",
      "step 6000 training batch accuracy: 93.0% cost: 4.11515302813\n",
      "step 7000 training batch accuracy: 90.0% cost: 4.60939558716\n",
      "step 8000 training batch accuracy: 90.0% cost: 5.09482852161\n",
      "step 9000 training batch accuracy: 89.0% cost: 5.57598561269\n"
     ]
    }
   ],
   "source": [
    "# Run the training\n",
    "sess = tf.InteractiveSession()\n",
    "sess.run(tf.global_variables_initializer())\n",
    "avg_cost=0\n",
    "for i in range(steps_number):\n",
    "    # Get the next batch\n",
    "    input_batch, labels_batch = mnist.train.next_batch(batch_size)\n",
    "    feed_dict = {training_data: input_batch, labels: labels_batch}\n",
    "    \n",
    "    # Run the training step\n",
    "    train_step.run(feed_dict=feed_dict)\n",
    "    c = sess.run(loss,feed_dict=feed_dict)\n",
    "    avg_cost += c/int(mnist.train.num_examples/batch_size)\n",
    "    \n",
    "    if i%1000 == 0:\n",
    "        train_accuracy = accuracy.eval(feed_dict=feed_dict)\n",
    "        print('step ' + str(i) + ' training batch accuracy: ' + str(round(train_accuracy*100,2)) + '%'+ ' cost: ' + str(avg_cost))"
   ]
  },
  {
   "cell_type": "code",
   "execution_count": 38,
   "metadata": {},
   "outputs": [
    {
     "name": "stdout",
     "output_type": "stream",
     "text": [
      "Test accuracy: 92.74 %\n"
     ]
    }
   ],
   "source": [
    "# Evaluate on the test set\n",
    "test_accuracy = accuracy.eval(feed_dict={training_data: mnist.test.images, labels: mnist.test.labels})\n",
    "print(\"Test accuracy: %g %%\"%(test_accuracy*100))"
   ]
  },
  {
   "cell_type": "code",
   "execution_count": null,
   "metadata": {
    "collapsed": true
   },
   "outputs": [],
   "source": []
  }
 ],
 "metadata": {
  "kernelspec": {
   "display_name": "tensorflow",
   "language": "python",
   "name": "tensorflow"
  },
  "language_info": {
   "codemirror_mode": {
    "name": "ipython",
    "version": 3
   },
   "file_extension": ".py",
   "mimetype": "text/x-python",
   "name": "python",
   "nbconvert_exporter": "python",
   "pygments_lexer": "ipython3",
   "version": "3.5.2"
  }
 },
 "nbformat": 4,
 "nbformat_minor": 2
}
